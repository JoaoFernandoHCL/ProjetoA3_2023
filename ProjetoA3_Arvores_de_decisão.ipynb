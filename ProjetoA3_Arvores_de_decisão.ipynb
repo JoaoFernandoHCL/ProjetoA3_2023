{
  "nbformat": 4,
  "nbformat_minor": 0,
  "metadata": {
    "colab": {
      "provenance": []
    },
    "kernelspec": {
      "name": "python3",
      "display_name": "Python 3"
    },
    "language_info": {
      "name": "python"
    }
  },
  "cells": [
    {
      "cell_type": "code",
      "execution_count": 69,
      "metadata": {
        "colab": {
          "base_uri": "https://localhost:8080/",
          "height": 803
        },
        "id": "-vBIu3BoT6Fm",
        "outputId": "91a4333e-83ae-4180-8888-446740625063"
      },
      "outputs": [
        {
          "output_type": "display_data",
          "data": {
            "text/plain": [
              "<IPython.core.display.HTML object>"
            ],
            "text/html": [
              "\n",
              "     <input type=\"file\" id=\"files-39eab641-b069-4cd3-8293-bbe65436c2df\" name=\"files[]\" multiple disabled\n",
              "        style=\"border:none\" />\n",
              "     <output id=\"result-39eab641-b069-4cd3-8293-bbe65436c2df\">\n",
              "      Upload widget is only available when the cell has been executed in the\n",
              "      current browser session. Please rerun this cell to enable.\n",
              "      </output>\n",
              "      <script>// Copyright 2017 Google LLC\n",
              "//\n",
              "// Licensed under the Apache License, Version 2.0 (the \"License\");\n",
              "// you may not use this file except in compliance with the License.\n",
              "// You may obtain a copy of the License at\n",
              "//\n",
              "//      http://www.apache.org/licenses/LICENSE-2.0\n",
              "//\n",
              "// Unless required by applicable law or agreed to in writing, software\n",
              "// distributed under the License is distributed on an \"AS IS\" BASIS,\n",
              "// WITHOUT WARRANTIES OR CONDITIONS OF ANY KIND, either express or implied.\n",
              "// See the License for the specific language governing permissions and\n",
              "// limitations under the License.\n",
              "\n",
              "/**\n",
              " * @fileoverview Helpers for google.colab Python module.\n",
              " */\n",
              "(function(scope) {\n",
              "function span(text, styleAttributes = {}) {\n",
              "  const element = document.createElement('span');\n",
              "  element.textContent = text;\n",
              "  for (const key of Object.keys(styleAttributes)) {\n",
              "    element.style[key] = styleAttributes[key];\n",
              "  }\n",
              "  return element;\n",
              "}\n",
              "\n",
              "// Max number of bytes which will be uploaded at a time.\n",
              "const MAX_PAYLOAD_SIZE = 100 * 1024;\n",
              "\n",
              "function _uploadFiles(inputId, outputId) {\n",
              "  const steps = uploadFilesStep(inputId, outputId);\n",
              "  const outputElement = document.getElementById(outputId);\n",
              "  // Cache steps on the outputElement to make it available for the next call\n",
              "  // to uploadFilesContinue from Python.\n",
              "  outputElement.steps = steps;\n",
              "\n",
              "  return _uploadFilesContinue(outputId);\n",
              "}\n",
              "\n",
              "// This is roughly an async generator (not supported in the browser yet),\n",
              "// where there are multiple asynchronous steps and the Python side is going\n",
              "// to poll for completion of each step.\n",
              "// This uses a Promise to block the python side on completion of each step,\n",
              "// then passes the result of the previous step as the input to the next step.\n",
              "function _uploadFilesContinue(outputId) {\n",
              "  const outputElement = document.getElementById(outputId);\n",
              "  const steps = outputElement.steps;\n",
              "\n",
              "  const next = steps.next(outputElement.lastPromiseValue);\n",
              "  return Promise.resolve(next.value.promise).then((value) => {\n",
              "    // Cache the last promise value to make it available to the next\n",
              "    // step of the generator.\n",
              "    outputElement.lastPromiseValue = value;\n",
              "    return next.value.response;\n",
              "  });\n",
              "}\n",
              "\n",
              "/**\n",
              " * Generator function which is called between each async step of the upload\n",
              " * process.\n",
              " * @param {string} inputId Element ID of the input file picker element.\n",
              " * @param {string} outputId Element ID of the output display.\n",
              " * @return {!Iterable<!Object>} Iterable of next steps.\n",
              " */\n",
              "function* uploadFilesStep(inputId, outputId) {\n",
              "  const inputElement = document.getElementById(inputId);\n",
              "  inputElement.disabled = false;\n",
              "\n",
              "  const outputElement = document.getElementById(outputId);\n",
              "  outputElement.innerHTML = '';\n",
              "\n",
              "  const pickedPromise = new Promise((resolve) => {\n",
              "    inputElement.addEventListener('change', (e) => {\n",
              "      resolve(e.target.files);\n",
              "    });\n",
              "  });\n",
              "\n",
              "  const cancel = document.createElement('button');\n",
              "  inputElement.parentElement.appendChild(cancel);\n",
              "  cancel.textContent = 'Cancel upload';\n",
              "  const cancelPromise = new Promise((resolve) => {\n",
              "    cancel.onclick = () => {\n",
              "      resolve(null);\n",
              "    };\n",
              "  });\n",
              "\n",
              "  // Wait for the user to pick the files.\n",
              "  const files = yield {\n",
              "    promise: Promise.race([pickedPromise, cancelPromise]),\n",
              "    response: {\n",
              "      action: 'starting',\n",
              "    }\n",
              "  };\n",
              "\n",
              "  cancel.remove();\n",
              "\n",
              "  // Disable the input element since further picks are not allowed.\n",
              "  inputElement.disabled = true;\n",
              "\n",
              "  if (!files) {\n",
              "    return {\n",
              "      response: {\n",
              "        action: 'complete',\n",
              "      }\n",
              "    };\n",
              "  }\n",
              "\n",
              "  for (const file of files) {\n",
              "    const li = document.createElement('li');\n",
              "    li.append(span(file.name, {fontWeight: 'bold'}));\n",
              "    li.append(span(\n",
              "        `(${file.type || 'n/a'}) - ${file.size} bytes, ` +\n",
              "        `last modified: ${\n",
              "            file.lastModifiedDate ? file.lastModifiedDate.toLocaleDateString() :\n",
              "                                    'n/a'} - `));\n",
              "    const percent = span('0% done');\n",
              "    li.appendChild(percent);\n",
              "\n",
              "    outputElement.appendChild(li);\n",
              "\n",
              "    const fileDataPromise = new Promise((resolve) => {\n",
              "      const reader = new FileReader();\n",
              "      reader.onload = (e) => {\n",
              "        resolve(e.target.result);\n",
              "      };\n",
              "      reader.readAsArrayBuffer(file);\n",
              "    });\n",
              "    // Wait for the data to be ready.\n",
              "    let fileData = yield {\n",
              "      promise: fileDataPromise,\n",
              "      response: {\n",
              "        action: 'continue',\n",
              "      }\n",
              "    };\n",
              "\n",
              "    // Use a chunked sending to avoid message size limits. See b/62115660.\n",
              "    let position = 0;\n",
              "    do {\n",
              "      const length = Math.min(fileData.byteLength - position, MAX_PAYLOAD_SIZE);\n",
              "      const chunk = new Uint8Array(fileData, position, length);\n",
              "      position += length;\n",
              "\n",
              "      const base64 = btoa(String.fromCharCode.apply(null, chunk));\n",
              "      yield {\n",
              "        response: {\n",
              "          action: 'append',\n",
              "          file: file.name,\n",
              "          data: base64,\n",
              "        },\n",
              "      };\n",
              "\n",
              "      let percentDone = fileData.byteLength === 0 ?\n",
              "          100 :\n",
              "          Math.round((position / fileData.byteLength) * 100);\n",
              "      percent.textContent = `${percentDone}% done`;\n",
              "\n",
              "    } while (position < fileData.byteLength);\n",
              "  }\n",
              "\n",
              "  // All done.\n",
              "  yield {\n",
              "    response: {\n",
              "      action: 'complete',\n",
              "    }\n",
              "  };\n",
              "}\n",
              "\n",
              "scope.google = scope.google || {};\n",
              "scope.google.colab = scope.google.colab || {};\n",
              "scope.google.colab._files = {\n",
              "  _uploadFiles,\n",
              "  _uploadFilesContinue,\n",
              "};\n",
              "})(self);\n",
              "</script> "
            ]
          },
          "metadata": {}
        },
        {
          "output_type": "stream",
          "name": "stdout",
          "text": [
            "Saving Sleep_health_and_lifestyle_dataset.csv to Sleep_health_and_lifestyle_dataset (4).csv\n",
            "     Person ID  Gender  Age            Occupation  Sleep Duration  \\\n",
            "0            1    Male   27     Software Engineer             6.1   \n",
            "1            2    Male   28                Doctor             6.2   \n",
            "2            3    Male   28                Doctor             6.2   \n",
            "3            4    Male   28  Sales Representative             5.9   \n",
            "4            5    Male   28  Sales Representative             5.9   \n",
            "..         ...     ...  ...                   ...             ...   \n",
            "369        370  Female   59                 Nurse             8.1   \n",
            "370        371  Female   59                 Nurse             8.0   \n",
            "371        372  Female   59                 Nurse             8.1   \n",
            "372        373  Female   59                 Nurse             8.1   \n",
            "373        374  Female   59                 Nurse             8.1   \n",
            "\n",
            "     Quality of Sleep  Physical Activity Level  Stress Level BMI Category  \\\n",
            "0                   6                       42             6   Overweight   \n",
            "1                   6                       60             8       Normal   \n",
            "2                   6                       60             8       Normal   \n",
            "3                   4                       30             8        Obese   \n",
            "4                   4                       30             8        Obese   \n",
            "..                ...                      ...           ...          ...   \n",
            "369                 9                       75             3   Overweight   \n",
            "370                 9                       75             3   Overweight   \n",
            "371                 9                       75             3   Overweight   \n",
            "372                 9                       75             3   Overweight   \n",
            "373                 9                       75             3   Overweight   \n",
            "\n",
            "    Blood Pressure  Heart Rate  Daily Steps Sleep Disorder  \n",
            "0           126/83          77         4200           None  \n",
            "1           125/80          75        10000           None  \n",
            "2           125/80          75        10000           None  \n",
            "3           140/90          85         3000    Sleep Apnea  \n",
            "4           140/90          85         3000    Sleep Apnea  \n",
            "..             ...         ...          ...            ...  \n",
            "369         140/95          68         7000    Sleep Apnea  \n",
            "370         140/95          68         7000    Sleep Apnea  \n",
            "371         140/95          68         7000    Sleep Apnea  \n",
            "372         140/95          68         7000    Sleep Apnea  \n",
            "373         140/95          68         7000    Sleep Apnea  \n",
            "\n",
            "[374 rows x 13 columns]\n"
          ]
        }
      ],
      "source": [
        "import pandas as pd\n",
        "from google.colab import files\n",
        "uploaded = files.upload()\n",
        "df = pd.read_csv(\"Sleep_health_and_lifestyle_dataset.csv\")\n",
        "print(df)"
      ]
    },
    {
      "cell_type": "code",
      "source": [
        "df = df.drop([\"Daily Steps\", \"Person ID\", \"Occupation\", \"Heart Rate\"], axis = 1)"
      ],
      "metadata": {
        "id": "wNfe--NcVgzp"
      },
      "execution_count": 70,
      "outputs": []
    },
    {
      "cell_type": "code",
      "source": [
        "df = df.replace(\"Normal Weight\", \"Normal\")"
      ],
      "metadata": {
        "id": "Y6hYhp8HfdaV"
      },
      "execution_count": 71,
      "outputs": []
    },
    {
      "cell_type": "code",
      "source": [
        "from sklearn import preprocessing\n",
        "le = preprocessing.LabelEncoder()"
      ],
      "metadata": {
        "id": "ztNJ35msijrQ"
      },
      "execution_count": 72,
      "outputs": []
    },
    {
      "cell_type": "code",
      "source": [
        "df[\"BMI Category\"] = le.fit_transform(df[\"BMI Category\"])\n",
        "#Normal = 0, Obese = 1, Overweight = 2"
      ],
      "metadata": {
        "id": "sLmPCINUio1e"
      },
      "execution_count": 73,
      "outputs": []
    },
    {
      "cell_type": "code",
      "source": [
        "df['Sleep Disorder'] = le.fit_transform(df['Sleep Disorder'])"
      ],
      "metadata": {
        "id": "nMhttZJ9kChx"
      },
      "execution_count": 74,
      "outputs": []
    },
    {
      "cell_type": "code",
      "source": [
        "new = df['Blood Pressure'].str.split(\"/\", n =1, expand = True)\n",
        "\n",
        "media = []\n",
        "for i in range(0, 374):\n",
        "  media.append((int(new[0][i]) + int(new[1][i]))/2)"
      ],
      "metadata": {
        "id": "d-ix9ycbkCbN"
      },
      "execution_count": 75,
      "outputs": []
    },
    {
      "cell_type": "code",
      "source": [
        "df[\"BloodPressure\"] = media"
      ],
      "metadata": {
        "id": "IQuRsmO7lw_c"
      },
      "execution_count": 76,
      "outputs": []
    },
    {
      "cell_type": "code",
      "source": [
        "df.drop([\"Blood Pressure\"], axis = 1, inplace= True)"
      ],
      "metadata": {
        "id": "Yo6LXia5ou7g"
      },
      "execution_count": 77,
      "outputs": []
    },
    {
      "cell_type": "code",
      "source": [
        "df.drop(\"Gender\", axis = 1, inplace = True)"
      ],
      "metadata": {
        "id": "BH9wpegcpTmd"
      },
      "execution_count": 78,
      "outputs": []
    },
    {
      "cell_type": "code",
      "source": [
        "x = df[[\"Sleep Duration\", \"Physical Activity Level\", \"Stress Level\", \"BMI Category\", 'Sleep Disorder', 'BloodPressure']]\n",
        "y = df[\"Quality of Sleep\"]\n",
        "from sklearn.model_selection import train_test_split\n",
        "X_train, X_test, y_train, y_test = train_test_split(x, y, test_size=0.3)"
      ],
      "metadata": {
        "id": "tA0LmmpSqIDD"
      },
      "execution_count": 79,
      "outputs": []
    },
    {
      "cell_type": "code",
      "source": [
        "from sklearn import tree\n",
        "clf = tree.DecisionTreeClassifier (criterion='entropy', max_depth=4)\n",
        "clf = clf.fit(X_train, y_train)\n",
        "predictions = clf.predict(X_test)"
      ],
      "metadata": {
        "id": "cuMed1egrjII"
      },
      "execution_count": 80,
      "outputs": []
    },
    {
      "cell_type": "code",
      "source": [
        "print(\"\\nMatriz de confusão:\\n\",\n",
        "      pd.crosstab(y_test, predictions, rownames=['Real'], colnames=['Predito'],\n",
        "      margins=True, margins_name='Todos'))"
      ],
      "metadata": {
        "colab": {
          "base_uri": "https://localhost:8080/"
        },
        "id": "g1Ez4pz5MLK8",
        "outputId": "bd9c4baa-2031-4f01-dcb3-e9aa5b4a6602"
      },
      "execution_count": 81,
      "outputs": [
        {
          "output_type": "stream",
          "name": "stdout",
          "text": [
            "\n",
            "Matriz de confusão:\n",
            " Predito  4  5   6   7   8   9  Todos\n",
            "Real                                \n",
            "4        3  0   0   0   0   0      3\n",
            "5        0  1   0   0   0   0      1\n",
            "6        0  0  30   0   0   0     30\n",
            "7        0  1   4  20   2   0     27\n",
            "8        0  0   0   0  32   0     32\n",
            "9        0  0   0   0   0  20     20\n",
            "Todos    3  2  34  20  34  20    113\n"
          ]
        }
      ]
    },
    {
      "cell_type": "code",
      "source": [
        "import sklearn.metrics as metrics\n",
        "print(\"Relatório sobre a qualidade:\\n\")\n",
        "print(metrics.classification_report(y_test, predictions ))"
      ],
      "metadata": {
        "colab": {
          "base_uri": "https://localhost:8080/"
        },
        "id": "3xcekiHPM4yG",
        "outputId": "4b55aa10-9de6-4164-ff40-8d1924ae7364"
      },
      "execution_count": 82,
      "outputs": [
        {
          "output_type": "stream",
          "name": "stdout",
          "text": [
            "Relatório sobre a qualidade:\n",
            "\n",
            "              precision    recall  f1-score   support\n",
            "\n",
            "           4       1.00      1.00      1.00         3\n",
            "           5       0.50      1.00      0.67         1\n",
            "           6       0.88      1.00      0.94        30\n",
            "           7       1.00      0.74      0.85        27\n",
            "           8       0.94      1.00      0.97        32\n",
            "           9       1.00      1.00      1.00        20\n",
            "\n",
            "    accuracy                           0.94       113\n",
            "   macro avg       0.89      0.96      0.90       113\n",
            "weighted avg       0.95      0.94      0.94       113\n",
            "\n"
          ]
        }
      ]
    },
    {
      "cell_type": "code",
      "source": [
        "import graphviz\n",
        "dot_data = tree.export_graphviz(clf, out_file=None)\n",
        "graph = graphviz.Source(dot_data)\n",
        "graph.render(\"df\")\n",
        "dot_data = tree.export_graphviz(clf, out_file=None,\n",
        "                         filled=True, rounded=True,\n",
        "                         special_characters=True)\n",
        "graph = graphviz.Source(dot_data, format=\"png\")\n",
        "graph"
      ],
      "metadata": {
        "id": "l55OThFQNd3Z",
        "colab": {
          "base_uri": "https://localhost:8080/",
          "height": 655
        },
        "outputId": "c821e551-ac1a-4079-8459-ac01e9f82029"
      },
      "execution_count": 83,
      "outputs": [
        {
          "output_type": "execute_result",
          "data": {
            "image/svg+xml": "<?xml version=\"1.0\" encoding=\"UTF-8\" standalone=\"no\"?>\n<!DOCTYPE svg PUBLIC \"-//W3C//DTD SVG 1.1//EN\"\n \"http://www.w3.org/Graphics/SVG/1.1/DTD/svg11.dtd\">\n<!-- Generated by graphviz version 2.43.0 (0)\n -->\n<!-- Title: Tree Pages: 1 -->\n<svg width=\"1405pt\" height=\"461pt\"\n viewBox=\"0.00 0.00 1404.50 461.00\" xmlns=\"http://www.w3.org/2000/svg\" xmlns:xlink=\"http://www.w3.org/1999/xlink\">\n<g id=\"graph0\" class=\"graph\" transform=\"scale(1 1) rotate(0) translate(4 457)\">\n<title>Tree</title>\n<polygon fill=\"white\" stroke=\"transparent\" points=\"-4,4 -4,-457 1400.5,-457 1400.5,4 -4,4\"/>\n<!-- 0 -->\n<g id=\"node1\" class=\"node\">\n<title>0</title>\n<path fill=\"#fefdff\" stroke=\"black\" d=\"M738,-453C738,-453 577,-453 577,-453 571,-453 565,-447 565,-441 565,-441 565,-401 565,-401 565,-395 571,-389 577,-389 577,-389 738,-389 738,-389 744,-389 750,-395 750,-401 750,-401 750,-441 750,-441 750,-447 744,-453 738,-453\"/>\n<text text-anchor=\"start\" x=\"633.5\" y=\"-438.8\" font-family=\"Helvetica,sans-Serif\" font-size=\"14.00\">x</text>\n<text text-anchor=\"start\" x=\"640.5\" y=\"-438.8\" font-family=\"Helvetica,sans-Serif\" baseline-shift=\"sub\" font-size=\"14.00\">0</text>\n<text text-anchor=\"start\" x=\"647.5\" y=\"-438.8\" font-family=\"Helvetica,sans-Serif\" font-size=\"14.00\"> ≤ 7.0</text>\n<text text-anchor=\"start\" x=\"610\" y=\"-424.8\" font-family=\"Helvetica,sans-Serif\" font-size=\"14.00\">entropy = 2.133</text>\n<text text-anchor=\"start\" x=\"612.5\" y=\"-410.8\" font-family=\"Helvetica,sans-Serif\" font-size=\"14.00\">samples = 261</text>\n<text text-anchor=\"start\" x=\"573\" y=\"-396.8\" font-family=\"Helvetica,sans-Serif\" font-size=\"14.00\">value = [2, 6, 75, 50, 77, 51]</text>\n</g>\n<!-- 1 -->\n<g id=\"node2\" class=\"node\">\n<title>1</title>\n<path fill=\"#83efb0\" stroke=\"black\" d=\"M634.5,-353C634.5,-353 488.5,-353 488.5,-353 482.5,-353 476.5,-347 476.5,-341 476.5,-341 476.5,-301 476.5,-301 476.5,-295 482.5,-289 488.5,-289 488.5,-289 634.5,-289 634.5,-289 640.5,-289 646.5,-295 646.5,-301 646.5,-301 646.5,-341 646.5,-341 646.5,-347 640.5,-353 634.5,-353\"/>\n<text text-anchor=\"start\" x=\"537.5\" y=\"-338.8\" font-family=\"Helvetica,sans-Serif\" font-size=\"14.00\">x</text>\n<text text-anchor=\"start\" x=\"544.5\" y=\"-338.8\" font-family=\"Helvetica,sans-Serif\" baseline-shift=\"sub\" font-size=\"14.00\">2</text>\n<text text-anchor=\"start\" x=\"551.5\" y=\"-338.8\" font-family=\"Helvetica,sans-Serif\" font-size=\"14.00\"> ≤ 5.5</text>\n<text text-anchor=\"start\" x=\"514\" y=\"-324.8\" font-family=\"Helvetica,sans-Serif\" font-size=\"14.00\">entropy = 1.174</text>\n<text text-anchor=\"start\" x=\"516.5\" y=\"-310.8\" font-family=\"Helvetica,sans-Serif\" font-size=\"14.00\">samples = 106</text>\n<text text-anchor=\"start\" x=\"484.5\" y=\"-296.8\" font-family=\"Helvetica,sans-Serif\" font-size=\"14.00\">value = [2, 6, 75, 23, 0, 0]</text>\n</g>\n<!-- 0&#45;&gt;1 -->\n<g id=\"edge1\" class=\"edge\">\n<title>0&#45;&gt;1</title>\n<path fill=\"none\" stroke=\"black\" d=\"M627.12,-388.99C618.28,-379.97 608.51,-369.99 599.27,-360.56\"/>\n<polygon fill=\"black\" stroke=\"black\" points=\"601.5,-357.84 592.01,-353.14 596.5,-362.74 601.5,-357.84\"/>\n<text text-anchor=\"middle\" x=\"591.75\" y=\"-374.44\" font-family=\"Helvetica,sans-Serif\" font-size=\"14.00\">True</text>\n</g>\n<!-- 10 -->\n<g id=\"node11\" class=\"node\">\n<title>10</title>\n<path fill=\"#e0cef8\" stroke=\"black\" d=\"M911,-353C911,-353 758,-353 758,-353 752,-353 746,-347 746,-341 746,-341 746,-301 746,-301 746,-295 752,-289 758,-289 758,-289 911,-289 911,-289 917,-289 923,-295 923,-301 923,-301 923,-341 923,-341 923,-347 917,-353 911,-353\"/>\n<text text-anchor=\"start\" x=\"806.5\" y=\"-338.8\" font-family=\"Helvetica,sans-Serif\" font-size=\"14.00\">x</text>\n<text text-anchor=\"start\" x=\"813.5\" y=\"-338.8\" font-family=\"Helvetica,sans-Serif\" baseline-shift=\"sub\" font-size=\"14.00\">0</text>\n<text text-anchor=\"start\" x=\"820.5\" y=\"-338.8\" font-family=\"Helvetica,sans-Serif\" font-size=\"14.00\"> ≤ 7.95</text>\n<text text-anchor=\"start\" x=\"787\" y=\"-324.8\" font-family=\"Helvetica,sans-Serif\" font-size=\"14.00\">entropy = 1.468</text>\n<text text-anchor=\"start\" x=\"789.5\" y=\"-310.8\" font-family=\"Helvetica,sans-Serif\" font-size=\"14.00\">samples = 155</text>\n<text text-anchor=\"start\" x=\"754\" y=\"-296.8\" font-family=\"Helvetica,sans-Serif\" font-size=\"14.00\">value = [0, 0, 0, 27, 77, 51]</text>\n</g>\n<!-- 0&#45;&gt;10 -->\n<g id=\"edge10\" class=\"edge\">\n<title>0&#45;&gt;10</title>\n<path fill=\"none\" stroke=\"black\" d=\"M713.5,-388.99C731.26,-379.16 751.04,-368.21 769.38,-358.05\"/>\n<polygon fill=\"black\" stroke=\"black\" points=\"771.2,-361.05 778.25,-353.14 767.81,-354.92 771.2,-361.05\"/>\n<text text-anchor=\"middle\" x=\"771.35\" y=\"-373.47\" font-family=\"Helvetica,sans-Serif\" font-size=\"14.00\">False</text>\n</g>\n<!-- 2 -->\n<g id=\"node3\" class=\"node\">\n<title>2</title>\n<path fill=\"#399de5\" stroke=\"black\" d=\"M450.5,-247.5C450.5,-247.5 312.5,-247.5 312.5,-247.5 306.5,-247.5 300.5,-241.5 300.5,-235.5 300.5,-235.5 300.5,-206.5 300.5,-206.5 300.5,-200.5 306.5,-194.5 312.5,-194.5 312.5,-194.5 450.5,-194.5 450.5,-194.5 456.5,-194.5 462.5,-200.5 462.5,-206.5 462.5,-206.5 462.5,-235.5 462.5,-235.5 462.5,-241.5 456.5,-247.5 450.5,-247.5\"/>\n<text text-anchor=\"start\" x=\"341.5\" y=\"-232.3\" font-family=\"Helvetica,sans-Serif\" font-size=\"14.00\">entropy = 0.0</text>\n<text text-anchor=\"start\" x=\"340.5\" y=\"-217.3\" font-family=\"Helvetica,sans-Serif\" font-size=\"14.00\">samples = 18</text>\n<text text-anchor=\"start\" x=\"308.5\" y=\"-202.3\" font-family=\"Helvetica,sans-Serif\" font-size=\"14.00\">value = [0, 0, 0, 18, 0, 0]</text>\n</g>\n<!-- 1&#45;&gt;2 -->\n<g id=\"edge2\" class=\"edge\">\n<title>1&#45;&gt;2</title>\n<path fill=\"none\" stroke=\"black\" d=\"M504.55,-288.99C483.1,-277.31 458.74,-264.05 437.39,-252.43\"/>\n<polygon fill=\"black\" stroke=\"black\" points=\"438.9,-249.26 428.44,-247.56 435.55,-255.41 438.9,-249.26\"/>\n</g>\n<!-- 3 -->\n<g id=\"node4\" class=\"node\">\n<title>3</title>\n<path fill=\"#58e995\" stroke=\"black\" d=\"M630.5,-253C630.5,-253 492.5,-253 492.5,-253 486.5,-253 480.5,-247 480.5,-241 480.5,-241 480.5,-201 480.5,-201 480.5,-195 486.5,-189 492.5,-189 492.5,-189 630.5,-189 630.5,-189 636.5,-189 642.5,-195 642.5,-201 642.5,-201 642.5,-241 642.5,-241 642.5,-247 636.5,-253 630.5,-253\"/>\n<text text-anchor=\"start\" x=\"533.5\" y=\"-238.8\" font-family=\"Helvetica,sans-Serif\" font-size=\"14.00\">x</text>\n<text text-anchor=\"start\" x=\"540.5\" y=\"-238.8\" font-family=\"Helvetica,sans-Serif\" baseline-shift=\"sub\" font-size=\"14.00\">0</text>\n<text text-anchor=\"start\" x=\"547.5\" y=\"-238.8\" font-family=\"Helvetica,sans-Serif\" font-size=\"14.00\"> ≤ 6.35</text>\n<text text-anchor=\"start\" x=\"517.5\" y=\"-224.8\" font-family=\"Helvetica,sans-Serif\" font-size=\"14.00\">entropy = 0.82</text>\n<text text-anchor=\"start\" x=\"520.5\" y=\"-210.8\" font-family=\"Helvetica,sans-Serif\" font-size=\"14.00\">samples = 88</text>\n<text text-anchor=\"start\" x=\"488.5\" y=\"-196.8\" font-family=\"Helvetica,sans-Serif\" font-size=\"14.00\">value = [2, 6, 75, 5, 0, 0]</text>\n</g>\n<!-- 1&#45;&gt;3 -->\n<g id=\"edge3\" class=\"edge\">\n<title>1&#45;&gt;3</title>\n<path fill=\"none\" stroke=\"black\" d=\"M561.5,-288.99C561.5,-280.86 561.5,-271.96 561.5,-263.38\"/>\n<polygon fill=\"black\" stroke=\"black\" points=\"565,-263.14 561.5,-253.14 558,-263.14 565,-263.14\"/>\n</g>\n<!-- 4 -->\n<g id=\"node5\" class=\"node\">\n<title>4</title>\n<path fill=\"#40e685\" stroke=\"black\" d=\"M323.5,-153C323.5,-153 185.5,-153 185.5,-153 179.5,-153 173.5,-147 173.5,-141 173.5,-141 173.5,-101 173.5,-101 173.5,-95 179.5,-89 185.5,-89 185.5,-89 323.5,-89 323.5,-89 329.5,-89 335.5,-95 335.5,-101 335.5,-101 335.5,-141 335.5,-141 335.5,-147 329.5,-153 323.5,-153\"/>\n<text text-anchor=\"start\" x=\"226.5\" y=\"-138.8\" font-family=\"Helvetica,sans-Serif\" font-size=\"14.00\">x</text>\n<text text-anchor=\"start\" x=\"233.5\" y=\"-138.8\" font-family=\"Helvetica,sans-Serif\" baseline-shift=\"sub\" font-size=\"14.00\">0</text>\n<text text-anchor=\"start\" x=\"240.5\" y=\"-138.8\" font-family=\"Helvetica,sans-Serif\" font-size=\"14.00\"> ≤ 5.95</text>\n<text text-anchor=\"start\" x=\"207\" y=\"-124.8\" font-family=\"Helvetica,sans-Serif\" font-size=\"14.00\">entropy = 0.211</text>\n<text text-anchor=\"start\" x=\"213.5\" y=\"-110.8\" font-family=\"Helvetica,sans-Serif\" font-size=\"14.00\">samples = 60</text>\n<text text-anchor=\"start\" x=\"181.5\" y=\"-96.8\" font-family=\"Helvetica,sans-Serif\" font-size=\"14.00\">value = [2, 0, 58, 0, 0, 0]</text>\n</g>\n<!-- 3&#45;&gt;4 -->\n<g id=\"edge4\" class=\"edge\">\n<title>3&#45;&gt;4</title>\n<path fill=\"none\" stroke=\"black\" d=\"M480.1,-191.83C477.2,-190.87 474.33,-189.92 471.5,-189 430.21,-175.52 384.27,-161.23 345.33,-149.33\"/>\n<polygon fill=\"black\" stroke=\"black\" points=\"346.18,-145.93 335.59,-146.36 344.13,-152.62 346.18,-145.93\"/>\n</g>\n<!-- 7 -->\n<g id=\"node8\" class=\"node\">\n<title>7</title>\n<path fill=\"#9cf2c0\" stroke=\"black\" d=\"M630.5,-153C630.5,-153 492.5,-153 492.5,-153 486.5,-153 480.5,-147 480.5,-141 480.5,-141 480.5,-101 480.5,-101 480.5,-95 486.5,-89 492.5,-89 492.5,-89 630.5,-89 630.5,-89 636.5,-89 642.5,-95 642.5,-101 642.5,-101 642.5,-141 642.5,-141 642.5,-147 636.5,-153 630.5,-153\"/>\n<text text-anchor=\"start\" x=\"533.5\" y=\"-138.8\" font-family=\"Helvetica,sans-Serif\" font-size=\"14.00\">x</text>\n<text text-anchor=\"start\" x=\"540.5\" y=\"-138.8\" font-family=\"Helvetica,sans-Serif\" baseline-shift=\"sub\" font-size=\"14.00\">1</text>\n<text text-anchor=\"start\" x=\"547.5\" y=\"-138.8\" font-family=\"Helvetica,sans-Serif\" font-size=\"14.00\"> ≤ 42.5</text>\n<text text-anchor=\"start\" x=\"514\" y=\"-124.8\" font-family=\"Helvetica,sans-Serif\" font-size=\"14.00\">entropy = 1.357</text>\n<text text-anchor=\"start\" x=\"520.5\" y=\"-110.8\" font-family=\"Helvetica,sans-Serif\" font-size=\"14.00\">samples = 28</text>\n<text text-anchor=\"start\" x=\"488.5\" y=\"-96.8\" font-family=\"Helvetica,sans-Serif\" font-size=\"14.00\">value = [0, 6, 17, 5, 0, 0]</text>\n</g>\n<!-- 3&#45;&gt;7 -->\n<g id=\"edge7\" class=\"edge\">\n<title>3&#45;&gt;7</title>\n<path fill=\"none\" stroke=\"black\" d=\"M561.5,-188.99C561.5,-180.86 561.5,-171.96 561.5,-163.38\"/>\n<polygon fill=\"black\" stroke=\"black\" points=\"565,-163.14 561.5,-153.14 558,-163.14 565,-163.14\"/>\n</g>\n<!-- 5 -->\n<g id=\"node6\" class=\"node\">\n<title>5</title>\n<path fill=\"#f2c09c\" stroke=\"black\" d=\"M143,-53C143,-53 12,-53 12,-53 6,-53 0,-47 0,-41 0,-41 0,-12 0,-12 0,-6 6,0 12,0 12,0 143,0 143,0 149,0 155,-6 155,-12 155,-12 155,-41 155,-41 155,-47 149,-53 143,-53\"/>\n<text text-anchor=\"start\" x=\"30\" y=\"-37.8\" font-family=\"Helvetica,sans-Serif\" font-size=\"14.00\">entropy = 0.918</text>\n<text text-anchor=\"start\" x=\"40\" y=\"-22.8\" font-family=\"Helvetica,sans-Serif\" font-size=\"14.00\">samples = 3</text>\n<text text-anchor=\"start\" x=\"8\" y=\"-7.8\" font-family=\"Helvetica,sans-Serif\" font-size=\"14.00\">value = [2, 0, 1, 0, 0, 0]</text>\n</g>\n<!-- 4&#45;&gt;5 -->\n<g id=\"edge5\" class=\"edge\">\n<title>4&#45;&gt;5</title>\n<path fill=\"none\" stroke=\"black\" d=\"M195.07,-88.94C175.82,-78.88 154.51,-67.75 135.38,-57.75\"/>\n<polygon fill=\"black\" stroke=\"black\" points=\"136.95,-54.62 126.47,-53.09 133.71,-60.82 136.95,-54.62\"/>\n</g>\n<!-- 6 -->\n<g id=\"node7\" class=\"node\">\n<title>6</title>\n<path fill=\"#39e581\" stroke=\"black\" d=\"M323.5,-53C323.5,-53 185.5,-53 185.5,-53 179.5,-53 173.5,-47 173.5,-41 173.5,-41 173.5,-12 173.5,-12 173.5,-6 179.5,0 185.5,0 185.5,0 323.5,0 323.5,0 329.5,0 335.5,-6 335.5,-12 335.5,-12 335.5,-41 335.5,-41 335.5,-47 329.5,-53 323.5,-53\"/>\n<text text-anchor=\"start\" x=\"214.5\" y=\"-37.8\" font-family=\"Helvetica,sans-Serif\" font-size=\"14.00\">entropy = 0.0</text>\n<text text-anchor=\"start\" x=\"213.5\" y=\"-22.8\" font-family=\"Helvetica,sans-Serif\" font-size=\"14.00\">samples = 57</text>\n<text text-anchor=\"start\" x=\"181.5\" y=\"-7.8\" font-family=\"Helvetica,sans-Serif\" font-size=\"14.00\">value = [0, 0, 57, 0, 0, 0]</text>\n</g>\n<!-- 4&#45;&gt;6 -->\n<g id=\"edge6\" class=\"edge\">\n<title>4&#45;&gt;6</title>\n<path fill=\"none\" stroke=\"black\" d=\"M254.5,-88.94C254.5,-80.66 254.5,-71.64 254.5,-63.13\"/>\n<polygon fill=\"black\" stroke=\"black\" points=\"258,-63.09 254.5,-53.09 251,-63.09 258,-63.09\"/>\n</g>\n<!-- 8 -->\n<g id=\"node9\" class=\"node\">\n<title>8</title>\n<path fill=\"#ade95a\" stroke=\"black\" d=\"M497,-53C497,-53 366,-53 366,-53 360,-53 354,-47 354,-41 354,-41 354,-12 354,-12 354,-6 360,0 366,0 366,0 497,0 497,0 503,0 509,-6 509,-12 509,-12 509,-41 509,-41 509,-47 503,-53 497,-53\"/>\n<text text-anchor=\"start\" x=\"384\" y=\"-37.8\" font-family=\"Helvetica,sans-Serif\" font-size=\"14.00\">entropy = 0.592</text>\n<text text-anchor=\"start\" x=\"394\" y=\"-22.8\" font-family=\"Helvetica,sans-Serif\" font-size=\"14.00\">samples = 7</text>\n<text text-anchor=\"start\" x=\"362\" y=\"-7.8\" font-family=\"Helvetica,sans-Serif\" font-size=\"14.00\">value = [0, 6, 0, 1, 0, 0]</text>\n</g>\n<!-- 7&#45;&gt;8 -->\n<g id=\"edge8\" class=\"edge\">\n<title>7&#45;&gt;8</title>\n<path fill=\"none\" stroke=\"black\" d=\"M517.85,-88.94C504.29,-79.29 489.33,-68.65 475.73,-58.97\"/>\n<polygon fill=\"black\" stroke=\"black\" points=\"477.64,-56.04 467.47,-53.09 473.58,-61.74 477.64,-56.04\"/>\n</g>\n<!-- 9 -->\n<g id=\"node10\" class=\"node\">\n<title>9</title>\n<path fill=\"#68eb9f\" stroke=\"black\" d=\"M677.5,-53C677.5,-53 539.5,-53 539.5,-53 533.5,-53 527.5,-47 527.5,-41 527.5,-41 527.5,-12 527.5,-12 527.5,-6 533.5,0 539.5,0 539.5,0 677.5,0 677.5,0 683.5,0 689.5,-6 689.5,-12 689.5,-12 689.5,-41 689.5,-41 689.5,-47 683.5,-53 677.5,-53\"/>\n<text text-anchor=\"start\" x=\"561\" y=\"-37.8\" font-family=\"Helvetica,sans-Serif\" font-size=\"14.00\">entropy = 0.702</text>\n<text text-anchor=\"start\" x=\"567.5\" y=\"-22.8\" font-family=\"Helvetica,sans-Serif\" font-size=\"14.00\">samples = 21</text>\n<text text-anchor=\"start\" x=\"535.5\" y=\"-7.8\" font-family=\"Helvetica,sans-Serif\" font-size=\"14.00\">value = [0, 0, 17, 4, 0, 0]</text>\n</g>\n<!-- 7&#45;&gt;9 -->\n<g id=\"edge9\" class=\"edge\">\n<title>7&#45;&gt;9</title>\n<path fill=\"none\" stroke=\"black\" d=\"M577.28,-88.94C581.68,-80.29 586.47,-70.85 590.96,-62.02\"/>\n<polygon fill=\"black\" stroke=\"black\" points=\"594.09,-63.59 595.5,-53.09 587.85,-60.42 594.09,-63.59\"/>\n</g>\n<!-- 11 -->\n<g id=\"node12\" class=\"node\">\n<title>11</title>\n<path fill=\"#ad7eee\" stroke=\"black\" d=\"M907.5,-253C907.5,-253 761.5,-253 761.5,-253 755.5,-253 749.5,-247 749.5,-241 749.5,-241 749.5,-201 749.5,-201 749.5,-195 755.5,-189 761.5,-189 761.5,-189 907.5,-189 907.5,-189 913.5,-189 919.5,-195 919.5,-201 919.5,-201 919.5,-241 919.5,-241 919.5,-247 913.5,-253 907.5,-253\"/>\n<text text-anchor=\"start\" x=\"810.5\" y=\"-238.8\" font-family=\"Helvetica,sans-Serif\" font-size=\"14.00\">x</text>\n<text text-anchor=\"start\" x=\"817.5\" y=\"-238.8\" font-family=\"Helvetica,sans-Serif\" baseline-shift=\"sub\" font-size=\"14.00\">2</text>\n<text text-anchor=\"start\" x=\"824.5\" y=\"-238.8\" font-family=\"Helvetica,sans-Serif\" font-size=\"14.00\"> ≤ 5.5</text>\n<text text-anchor=\"start\" x=\"787\" y=\"-224.8\" font-family=\"Helvetica,sans-Serif\" font-size=\"14.00\">entropy = 0.826</text>\n<text text-anchor=\"start\" x=\"789.5\" y=\"-210.8\" font-family=\"Helvetica,sans-Serif\" font-size=\"14.00\">samples = 104</text>\n<text text-anchor=\"start\" x=\"757.5\" y=\"-196.8\" font-family=\"Helvetica,sans-Serif\" font-size=\"14.00\">value = [0, 0, 0, 27, 77, 0]</text>\n</g>\n<!-- 10&#45;&gt;11 -->\n<g id=\"edge11\" class=\"edge\">\n<title>10&#45;&gt;11</title>\n<path fill=\"none\" stroke=\"black\" d=\"M834.5,-288.99C834.5,-280.86 834.5,-271.96 834.5,-263.38\"/>\n<polygon fill=\"black\" stroke=\"black\" points=\"838,-263.14 834.5,-253.14 831,-263.14 838,-263.14\"/>\n</g>\n<!-- 18 -->\n<g id=\"node19\" class=\"node\">\n<title>18</title>\n<path fill=\"#e5399d\" stroke=\"black\" d=\"M1087.5,-247.5C1087.5,-247.5 949.5,-247.5 949.5,-247.5 943.5,-247.5 937.5,-241.5 937.5,-235.5 937.5,-235.5 937.5,-206.5 937.5,-206.5 937.5,-200.5 943.5,-194.5 949.5,-194.5 949.5,-194.5 1087.5,-194.5 1087.5,-194.5 1093.5,-194.5 1099.5,-200.5 1099.5,-206.5 1099.5,-206.5 1099.5,-235.5 1099.5,-235.5 1099.5,-241.5 1093.5,-247.5 1087.5,-247.5\"/>\n<text text-anchor=\"start\" x=\"978.5\" y=\"-232.3\" font-family=\"Helvetica,sans-Serif\" font-size=\"14.00\">entropy = 0.0</text>\n<text text-anchor=\"start\" x=\"977.5\" y=\"-217.3\" font-family=\"Helvetica,sans-Serif\" font-size=\"14.00\">samples = 51</text>\n<text text-anchor=\"start\" x=\"945.5\" y=\"-202.3\" font-family=\"Helvetica,sans-Serif\" font-size=\"14.00\">value = [0, 0, 0, 0, 0, 51]</text>\n</g>\n<!-- 10&#45;&gt;18 -->\n<g id=\"edge18\" class=\"edge\">\n<title>10&#45;&gt;18</title>\n<path fill=\"none\" stroke=\"black\" d=\"M892.72,-288.99C914.74,-277.26 939.77,-263.93 961.66,-252.27\"/>\n<polygon fill=\"black\" stroke=\"black\" points=\"963.34,-255.35 970.52,-247.56 960.05,-249.17 963.34,-255.35\"/>\n</g>\n<!-- 12 -->\n<g id=\"node13\" class=\"node\">\n<title>12</title>\n<path fill=\"#8641e6\" stroke=\"black\" d=\"M903.5,-153C903.5,-153 765.5,-153 765.5,-153 759.5,-153 753.5,-147 753.5,-141 753.5,-141 753.5,-101 753.5,-101 753.5,-95 759.5,-89 765.5,-89 765.5,-89 903.5,-89 903.5,-89 909.5,-89 915.5,-95 915.5,-101 915.5,-101 915.5,-141 915.5,-141 915.5,-147 909.5,-153 903.5,-153\"/>\n<text text-anchor=\"start\" x=\"803\" y=\"-138.8\" font-family=\"Helvetica,sans-Serif\" font-size=\"14.00\">x</text>\n<text text-anchor=\"start\" x=\"810\" y=\"-138.8\" font-family=\"Helvetica,sans-Serif\" baseline-shift=\"sub\" font-size=\"14.00\">5</text>\n<text text-anchor=\"start\" x=\"817\" y=\"-138.8\" font-family=\"Helvetica,sans-Serif\" font-size=\"14.00\"> ≤ 109.5</text>\n<text text-anchor=\"start\" x=\"787\" y=\"-124.8\" font-family=\"Helvetica,sans-Serif\" font-size=\"14.00\">entropy = 0.238</text>\n<text text-anchor=\"start\" x=\"793.5\" y=\"-110.8\" font-family=\"Helvetica,sans-Serif\" font-size=\"14.00\">samples = 77</text>\n<text text-anchor=\"start\" x=\"761.5\" y=\"-96.8\" font-family=\"Helvetica,sans-Serif\" font-size=\"14.00\">value = [0, 0, 0, 3, 74, 0]</text>\n</g>\n<!-- 11&#45;&gt;12 -->\n<g id=\"edge12\" class=\"edge\">\n<title>11&#45;&gt;12</title>\n<path fill=\"none\" stroke=\"black\" d=\"M834.5,-188.99C834.5,-180.86 834.5,-171.96 834.5,-163.38\"/>\n<polygon fill=\"black\" stroke=\"black\" points=\"838,-163.14 834.5,-153.14 831,-163.14 838,-163.14\"/>\n</g>\n<!-- 15 -->\n<g id=\"node16\" class=\"node\">\n<title>15</title>\n<path fill=\"#52a9e8\" stroke=\"black\" d=\"M1207.5,-153C1207.5,-153 1069.5,-153 1069.5,-153 1063.5,-153 1057.5,-147 1057.5,-141 1057.5,-141 1057.5,-101 1057.5,-101 1057.5,-95 1063.5,-89 1069.5,-89 1069.5,-89 1207.5,-89 1207.5,-89 1213.5,-89 1219.5,-95 1219.5,-101 1219.5,-101 1219.5,-141 1219.5,-141 1219.5,-147 1213.5,-153 1207.5,-153\"/>\n<text text-anchor=\"start\" x=\"1110.5\" y=\"-138.8\" font-family=\"Helvetica,sans-Serif\" font-size=\"14.00\">x</text>\n<text text-anchor=\"start\" x=\"1117.5\" y=\"-138.8\" font-family=\"Helvetica,sans-Serif\" baseline-shift=\"sub\" font-size=\"14.00\">1</text>\n<text text-anchor=\"start\" x=\"1124.5\" y=\"-138.8\" font-family=\"Helvetica,sans-Serif\" font-size=\"14.00\"> ≤ 72.5</text>\n<text text-anchor=\"start\" x=\"1091\" y=\"-124.8\" font-family=\"Helvetica,sans-Serif\" font-size=\"14.00\">entropy = 0.503</text>\n<text text-anchor=\"start\" x=\"1097.5\" y=\"-110.8\" font-family=\"Helvetica,sans-Serif\" font-size=\"14.00\">samples = 27</text>\n<text text-anchor=\"start\" x=\"1065.5\" y=\"-96.8\" font-family=\"Helvetica,sans-Serif\" font-size=\"14.00\">value = [0, 0, 0, 24, 3, 0]</text>\n</g>\n<!-- 11&#45;&gt;15 -->\n<g id=\"edge15\" class=\"edge\">\n<title>11&#45;&gt;15</title>\n<path fill=\"none\" stroke=\"black\" d=\"M919.54,-191.91C922.56,-190.93 925.56,-189.95 928.5,-189 967.51,-176.34 1010.67,-162.54 1047.65,-150.77\"/>\n<polygon fill=\"black\" stroke=\"black\" points=\"1048.95,-154.03 1057.42,-147.67 1046.83,-147.36 1048.95,-154.03\"/>\n</g>\n<!-- 13 -->\n<g id=\"node14\" class=\"node\">\n<title>13</title>\n<path fill=\"#8139e5\" stroke=\"black\" d=\"M857.5,-53C857.5,-53 719.5,-53 719.5,-53 713.5,-53 707.5,-47 707.5,-41 707.5,-41 707.5,-12 707.5,-12 707.5,-6 713.5,0 719.5,0 719.5,0 857.5,0 857.5,0 863.5,0 869.5,-6 869.5,-12 869.5,-12 869.5,-41 869.5,-41 869.5,-47 863.5,-53 857.5,-53\"/>\n<text text-anchor=\"start\" x=\"748.5\" y=\"-37.8\" font-family=\"Helvetica,sans-Serif\" font-size=\"14.00\">entropy = 0.0</text>\n<text text-anchor=\"start\" x=\"747.5\" y=\"-22.8\" font-family=\"Helvetica,sans-Serif\" font-size=\"14.00\">samples = 74</text>\n<text text-anchor=\"start\" x=\"715.5\" y=\"-7.8\" font-family=\"Helvetica,sans-Serif\" font-size=\"14.00\">value = [0, 0, 0, 0, 74, 0]</text>\n</g>\n<!-- 12&#45;&gt;13 -->\n<g id=\"edge13\" class=\"edge\">\n<title>12&#45;&gt;13</title>\n<path fill=\"none\" stroke=\"black\" d=\"M819.05,-88.94C814.8,-80.38 810.16,-71.05 805.8,-62.29\"/>\n<polygon fill=\"black\" stroke=\"black\" points=\"808.81,-60.49 801.23,-53.09 802.55,-63.6 808.81,-60.49\"/>\n</g>\n<!-- 14 -->\n<g id=\"node15\" class=\"node\">\n<title>14</title>\n<path fill=\"#399de5\" stroke=\"black\" d=\"M1031,-53C1031,-53 900,-53 900,-53 894,-53 888,-47 888,-41 888,-41 888,-12 888,-12 888,-6 894,0 900,0 900,0 1031,0 1031,0 1037,0 1043,-6 1043,-12 1043,-12 1043,-41 1043,-41 1043,-47 1037,-53 1031,-53\"/>\n<text text-anchor=\"start\" x=\"925.5\" y=\"-37.8\" font-family=\"Helvetica,sans-Serif\" font-size=\"14.00\">entropy = 0.0</text>\n<text text-anchor=\"start\" x=\"928\" y=\"-22.8\" font-family=\"Helvetica,sans-Serif\" font-size=\"14.00\">samples = 3</text>\n<text text-anchor=\"start\" x=\"896\" y=\"-7.8\" font-family=\"Helvetica,sans-Serif\" font-size=\"14.00\">value = [0, 0, 0, 3, 0, 0]</text>\n</g>\n<!-- 12&#45;&gt;14 -->\n<g id=\"edge14\" class=\"edge\">\n<title>12&#45;&gt;14</title>\n<path fill=\"none\" stroke=\"black\" d=\"M878.49,-88.94C892.15,-79.29 907.22,-68.65 920.93,-58.97\"/>\n<polygon fill=\"black\" stroke=\"black\" points=\"923.11,-61.72 929.26,-53.09 919.07,-56 923.11,-61.72\"/>\n</g>\n<!-- 16 -->\n<g id=\"node17\" class=\"node\">\n<title>16</title>\n<path fill=\"#ab7bee\" stroke=\"black\" d=\"M1204,-53C1204,-53 1073,-53 1073,-53 1067,-53 1061,-47 1061,-41 1061,-41 1061,-12 1061,-12 1061,-6 1067,0 1073,0 1073,0 1204,0 1204,0 1210,0 1216,-6 1216,-12 1216,-12 1216,-41 1216,-41 1216,-47 1210,-53 1204,-53\"/>\n<text text-anchor=\"start\" x=\"1091\" y=\"-37.8\" font-family=\"Helvetica,sans-Serif\" font-size=\"14.00\">entropy = 0.811</text>\n<text text-anchor=\"start\" x=\"1101\" y=\"-22.8\" font-family=\"Helvetica,sans-Serif\" font-size=\"14.00\">samples = 4</text>\n<text text-anchor=\"start\" x=\"1069\" y=\"-7.8\" font-family=\"Helvetica,sans-Serif\" font-size=\"14.00\">value = [0, 0, 0, 1, 3, 0]</text>\n</g>\n<!-- 15&#45;&gt;16 -->\n<g id=\"edge16\" class=\"edge\">\n<title>15&#45;&gt;16</title>\n<path fill=\"none\" stroke=\"black\" d=\"M1138.5,-88.94C1138.5,-80.66 1138.5,-71.64 1138.5,-63.13\"/>\n<polygon fill=\"black\" stroke=\"black\" points=\"1142,-63.09 1138.5,-53.09 1135,-63.09 1142,-63.09\"/>\n</g>\n<!-- 17 -->\n<g id=\"node18\" class=\"node\">\n<title>17</title>\n<path fill=\"#399de5\" stroke=\"black\" d=\"M1384.5,-53C1384.5,-53 1246.5,-53 1246.5,-53 1240.5,-53 1234.5,-47 1234.5,-41 1234.5,-41 1234.5,-12 1234.5,-12 1234.5,-6 1240.5,0 1246.5,0 1246.5,0 1384.5,0 1384.5,0 1390.5,0 1396.5,-6 1396.5,-12 1396.5,-12 1396.5,-41 1396.5,-41 1396.5,-47 1390.5,-53 1384.5,-53\"/>\n<text text-anchor=\"start\" x=\"1275.5\" y=\"-37.8\" font-family=\"Helvetica,sans-Serif\" font-size=\"14.00\">entropy = 0.0</text>\n<text text-anchor=\"start\" x=\"1274.5\" y=\"-22.8\" font-family=\"Helvetica,sans-Serif\" font-size=\"14.00\">samples = 23</text>\n<text text-anchor=\"start\" x=\"1242.5\" y=\"-7.8\" font-family=\"Helvetica,sans-Serif\" font-size=\"14.00\">value = [0, 0, 0, 23, 0, 0]</text>\n</g>\n<!-- 15&#45;&gt;17 -->\n<g id=\"edge17\" class=\"edge\">\n<title>15&#45;&gt;17</title>\n<path fill=\"none\" stroke=\"black\" d=\"M1197.93,-88.94C1217.18,-78.88 1238.49,-67.75 1257.62,-57.75\"/>\n<polygon fill=\"black\" stroke=\"black\" points=\"1259.29,-60.82 1266.53,-53.09 1256.05,-54.62 1259.29,-60.82\"/>\n</g>\n</g>\n</svg>\n",
            "text/plain": [
              "<graphviz.sources.Source at 0x7e2b41a5a9e0>"
            ]
          },
          "metadata": {},
          "execution_count": 83
        }
      ]
    }
  ]
}